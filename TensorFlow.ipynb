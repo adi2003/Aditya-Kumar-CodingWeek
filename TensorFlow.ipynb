{
  "nbformat": 4,
  "nbformat_minor": 0,
  "metadata": {
    "colab": {
      "provenance": [],
      "include_colab_link": true
    },
    "kernelspec": {
      "name": "python3",
      "display_name": "Python 3"
    },
    "language_info": {
      "name": "python"
    }
  },
  "cells": [
    {
      "cell_type": "markdown",
      "metadata": {
        "id": "view-in-github",
        "colab_type": "text"
      },
      "source": [
        "<a href=\"https://colab.research.google.com/github/adi2003/Aditya-Kumar-CodingWeek/blob/main/TensorFlow.ipynb\" target=\"_parent\"><img src=\"https://colab.research.google.com/assets/colab-badge.svg\" alt=\"Open In Colab\"/></a>"
      ]
    },
    {
      "cell_type": "markdown",
      "source": [
        "Introduction to Tensors"
      ],
      "metadata": {
        "id": "3Qoionx18SfB"
      }
    },
    {
      "cell_type": "code",
      "source": [
        "#import TensorFlow\n",
        "import tensorflow as tf\n",
        "print(tf.__version__)"
      ],
      "metadata": {
        "id": "7QqOqUtv8bOK",
        "outputId": "f0bc0cef-3b9f-426b-842b-dfb83f42725e",
        "colab": {
          "base_uri": "https://localhost:8080/"
        }
      },
      "execution_count": 3,
      "outputs": [
        {
          "output_type": "stream",
          "name": "stdout",
          "text": [
            "2.14.0\n"
          ]
        }
      ]
    },
    {
      "cell_type": "code",
      "source": [
        "#create tensors with tf.constant()\n",
        "scalar=tf.constant(7)\n",
        "scalar"
      ],
      "metadata": {
        "id": "sJCPuB4I8tFt",
        "outputId": "b0174e6f-6032-44f9-d83e-1d1b736c3350",
        "colab": {
          "base_uri": "https://localhost:8080/"
        }
      },
      "execution_count": 5,
      "outputs": [
        {
          "output_type": "execute_result",
          "data": {
            "text/plain": [
              "<tf.Tensor: shape=(), dtype=int32, numpy=7>"
            ]
          },
          "metadata": {},
          "execution_count": 5
        }
      ]
    },
    {
      "cell_type": "code",
      "source": [
        "#check the number of dimensions of a tensor (ndim stands for number of dimensions)\n",
        "scalar.ndim"
      ],
      "metadata": {
        "id": "L5-_pKOB-N92",
        "outputId": "c262599d-8ce5-417d-8493-f8b249a9529f",
        "colab": {
          "base_uri": "https://localhost:8080/"
        }
      },
      "execution_count": 6,
      "outputs": [
        {
          "output_type": "execute_result",
          "data": {
            "text/plain": [
              "0"
            ]
          },
          "metadata": {},
          "execution_count": 6
        }
      ]
    },
    {
      "cell_type": "code",
      "source": [
        "#create a vector\n",
        "vector=tf.constant([10,10])\n",
        "vector"
      ],
      "metadata": {
        "id": "8H3f-gnm-hwo",
        "outputId": "2124cb71-b938-436d-9e88-18b4acef5d07",
        "colab": {
          "base_uri": "https://localhost:8080/"
        }
      },
      "execution_count": 7,
      "outputs": [
        {
          "output_type": "execute_result",
          "data": {
            "text/plain": [
              "<tf.Tensor: shape=(2,), dtype=int32, numpy=array([10, 10], dtype=int32)>"
            ]
          },
          "metadata": {},
          "execution_count": 7
        }
      ]
    },
    {
      "cell_type": "code",
      "source": [
        "#check the dimensions of the vector\n",
        "vector.ndim"
      ],
      "metadata": {
        "id": "84wvIF9z-uN6",
        "outputId": "2e120b0d-d47e-481b-9684-3984650cadb6",
        "colab": {
          "base_uri": "https://localhost:8080/"
        }
      },
      "execution_count": 8,
      "outputs": [
        {
          "output_type": "execute_result",
          "data": {
            "text/plain": [
              "1"
            ]
          },
          "metadata": {},
          "execution_count": 8
        }
      ]
    },
    {
      "cell_type": "code",
      "source": [
        "#create a matrix(has more than one dimensions)\n",
        "matrix=tf.constant([[7,10],[10,7],[3,3]])\n",
        "matrix\n"
      ],
      "metadata": {
        "id": "glMWdbPr-3Wm",
        "outputId": "750f20cd-0c60-482e-e779-c4a6cd895f8b",
        "colab": {
          "base_uri": "https://localhost:8080/"
        }
      },
      "execution_count": 11,
      "outputs": [
        {
          "output_type": "execute_result",
          "data": {
            "text/plain": [
              "<tf.Tensor: shape=(3, 2), dtype=int32, numpy=\n",
              "array([[ 7, 10],\n",
              "       [10,  7],\n",
              "       [ 3,  3]], dtype=int32)>"
            ]
          },
          "metadata": {},
          "execution_count": 11
        }
      ]
    },
    {
      "cell_type": "code",
      "source": [
        "matrix.ndim"
      ],
      "metadata": {
        "id": "DV8lneUp_X5c",
        "outputId": "e8e5875f-8b72-4502-bc7e-89f506447b6a",
        "colab": {
          "base_uri": "https://localhost:8080/"
        }
      },
      "execution_count": 12,
      "outputs": [
        {
          "output_type": "execute_result",
          "data": {
            "text/plain": [
              "2"
            ]
          },
          "metadata": {},
          "execution_count": 12
        }
      ]
    },
    {
      "cell_type": "markdown",
      "source": [
        "Notice that the number of elements in the shape attribute of the tensor seems to be the number the dimensions"
      ],
      "metadata": {
        "id": "dHFquscE_lQu"
      }
    },
    {
      "cell_type": "code",
      "source": [
        "#dtype parameter\n",
        "another_matrix=tf.constant([[10,7],[7,10]],dtype=tf.float32) ## specify the data type with dtype parameter\n",
        "another_matrix"
      ],
      "metadata": {
        "id": "tUCW26kJ_8Pv",
        "outputId": "2bb676d6-f058-47cb-a928-be8bbdc3d2c4",
        "colab": {
          "base_uri": "https://localhost:8080/"
        }
      },
      "execution_count": 17,
      "outputs": [
        {
          "output_type": "execute_result",
          "data": {
            "text/plain": [
              "<tf.Tensor: shape=(2, 2), dtype=float32, numpy=\n",
              "array([[10.,  7.],\n",
              "       [ 7., 10.]], dtype=float32)>"
            ]
          },
          "metadata": {},
          "execution_count": 17
        }
      ]
    },
    {
      "cell_type": "code",
      "source": [
        "another_matrix.ndim"
      ],
      "metadata": {
        "id": "UJsSGgiqAvN5",
        "outputId": "4f786a84-8ca2-40f3-94a7-dae67ef7451f",
        "colab": {
          "base_uri": "https://localhost:8080/"
        }
      },
      "execution_count": 18,
      "outputs": [
        {
          "output_type": "execute_result",
          "data": {
            "text/plain": [
              "2"
            ]
          },
          "metadata": {},
          "execution_count": 18
        }
      ]
    },
    {
      "cell_type": "code",
      "source": [
        "#lets create a tensor with 3 dimensions #a tensor has more than 2 dimensions\n",
        "tensor1=tf.constant([[[10,20],[5,3]],[[1,2],[7,9]],[[1,3],[9,9]]])\n",
        "tensor1"
      ],
      "metadata": {
        "id": "PTMPsf_hA_cg",
        "outputId": "da9c3491-12de-4ee4-b589-fc38514086c6",
        "colab": {
          "base_uri": "https://localhost:8080/"
        }
      },
      "execution_count": 21,
      "outputs": [
        {
          "output_type": "execute_result",
          "data": {
            "text/plain": [
              "<tf.Tensor: shape=(3, 2, 2), dtype=int32, numpy=\n",
              "array([[[10, 20],\n",
              "        [ 5,  3]],\n",
              "\n",
              "       [[ 1,  2],\n",
              "        [ 7,  9]],\n",
              "\n",
              "       [[ 1,  3],\n",
              "        [ 9,  9]]], dtype=int32)>"
            ]
          },
          "metadata": {},
          "execution_count": 21
        }
      ]
    },
    {
      "cell_type": "code",
      "source": [
        "tensor1.ndim"
      ],
      "metadata": {
        "id": "UmrSoeSGBZug",
        "outputId": "9e4e4141-b1eb-452d-b4ef-a94181648954",
        "colab": {
          "base_uri": "https://localhost:8080/"
        }
      },
      "execution_count": 20,
      "outputs": [
        {
          "output_type": "execute_result",
          "data": {
            "text/plain": [
              "3"
            ]
          },
          "metadata": {},
          "execution_count": 20
        }
      ]
    },
    {
      "cell_type": "markdown",
      "source": [
        "What we have learned so far\n",
        "* Scalar\n",
        "* vector\n",
        "* matrix\n",
        "* tensor\n",
        "* tf.constant()\n",
        "* ndim\n",
        "* dtype"
      ],
      "metadata": {
        "id": "nB0x1jivCfnX"
      }
    },
    {
      "cell_type": "markdown",
      "source": [
        "The Variable() constructor requires an initial value for the variable, which can be a Tensor of any type and shape. This initial value defines the type and shape of the variable. After construction, the type and shape of the variable are fixed. The value can be changed using one of the assign methods.\n"
      ],
      "metadata": {
        "id": "nTvujtVqaNOR"
      }
    },
    {
      "cell_type": "code",
      "source": [
        "#creating tensors with variable\n",
        "#A variable maintains shared, persistent state manipulated by a program.\n"
      ],
      "metadata": {
        "id": "5oHKLslIaP3t"
      },
      "execution_count": null,
      "outputs": []
    },
    {
      "cell_type": "code",
      "source": [
        "#create the same tensor with tf.variable() as above\n",
        "#might be changable\n",
        "changeable_tensor=tf.Variable([10,7])\n",
        "unchangeable_tensor=tf.constant([10,7])\n",
        "changeable_tensor,unchangeable_tensor"
      ],
      "metadata": {
        "id": "IHqv2y9haVGU",
        "outputId": "e1b5dba0-32a2-4173-9b21-307d24cae111",
        "colab": {
          "base_uri": "https://localhost:8080/"
        }
      },
      "execution_count": 22,
      "outputs": [
        {
          "output_type": "execute_result",
          "data": {
            "text/plain": [
              "(<tf.Variable 'Variable:0' shape=(2,) dtype=int32, numpy=array([10,  7], dtype=int32)>,\n",
              " <tf.Tensor: shape=(2,), dtype=int32, numpy=array([10,  7], dtype=int32)>)"
            ]
          },
          "metadata": {},
          "execution_count": 22
        }
      ]
    },
    {
      "cell_type": "code",
      "source": [
        "#Let's try change one of the elements in our changeable tensor\n",
        "changeable_tensor[0].assign(0)\n",
        "changeable_tensor.assign([-100,100])\n",
        "changeable_tensor\n",
        "\n",
        "#changeable tensor can be changed using the assign statement(because we created using the tf.variable())\n",
        "#unchangeable tensor was created when we made it using the tf.constant()\n",
        "\n"
      ],
      "metadata": {
        "id": "9ko7XoR6a_-b",
        "outputId": "079ed3c5-7222-4b3a-9092-8c3257f7510d",
        "colab": {
          "base_uri": "https://localhost:8080/"
        }
      },
      "execution_count": 27,
      "outputs": [
        {
          "output_type": "execute_result",
          "data": {
            "text/plain": [
              "<tf.Variable 'Variable:0' shape=(2,) dtype=int32, numpy=array([-100,  100], dtype=int32)>"
            ]
          },
          "metadata": {},
          "execution_count": 27
        }
      ]
    }
  ]
}